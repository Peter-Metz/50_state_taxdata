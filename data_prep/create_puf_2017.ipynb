{
 "cells": [
  {
   "cell_type": "code",
   "execution_count": 14,
   "metadata": {},
   "outputs": [],
   "source": [
    "from taxcalc import *\n",
    "import pandas as pd\n",
    "import os"
   ]
  },
  {
   "cell_type": "code",
   "execution_count": 2,
   "metadata": {},
   "outputs": [],
   "source": [
    "pol = Policy()\n",
    "# To make sure that Tax-Calculator uses the PUF,\n",
    "# add puf.csv to this folder and initiate the Records\n",
    "# class with recs=Records()\n",
    "recs = Records()\n",
    "calc = Calculator(pol, recs)"
   ]
  },
  {
   "cell_type": "code",
   "execution_count": 19,
   "metadata": {},
   "outputs": [],
   "source": [
    "# Use Tax-Calculator to extrapolate data to 2017\n",
    "calc.advance_to_year(2017)\n",
    "calc.calc_all()\n",
    "# By toggling the all_vars argument, we tell Tax-Calculator\n",
    "# to construct a dataframe using all PUF variables and all\n",
    "# calculated variables\n",
    "puf_2017 = calc.dataframe(variable_list=[], all_vars=True)"
   ]
  },
  {
   "cell_type": "code",
   "execution_count": 26,
   "metadata": {},
   "outputs": [
    {
     "name": "stdout",
     "output_type": "stream",
     "text": [
      "# of PUF vars: 106\n",
      "# of calculated vars: 100\n",
      "# of vars in puf_2017: 206\n"
     ]
    }
   ],
   "source": [
    "# Check that number of PUF vars + number of calculated\n",
    "# vars = number of columns in our dataframe\n",
    "puf_vars = recs.USABLE_READ_VARS\n",
    "calc_vars = recs.CALCULATED_VARS\n",
    "print(\"Num PUF vars: {}\".format(len(puf_vars)))\n",
    "print(\"Num calculated vars: {}\".format(len(calc_vars)))\n",
    "print(\"Num columns in puf_2017: {}\".format(len(puf_2017.columns)))"
   ]
  },
  {
   "cell_type": "code",
   "execution_count": 29,
   "metadata": {},
   "outputs": [],
   "source": [
    "# To print this dataframe to a CSV, un-comment the line below\n",
    "# Note that I compressed the csv because the file is large\n",
    "# puf_2017.to_csv('puf_2017.csv.gz', compression='gzip')"
   ]
  },
  {
   "cell_type": "code",
   "execution_count": null,
   "metadata": {},
   "outputs": [],
   "source": []
  }
 ],
 "metadata": {
  "kernelspec": {
   "display_name": "Python 3",
   "language": "python",
   "name": "python3"
  },
  "language_info": {
   "codemirror_mode": {
    "name": "ipython",
    "version": 3
   },
   "file_extension": ".py",
   "mimetype": "text/x-python",
   "name": "python",
   "nbconvert_exporter": "python",
   "pygments_lexer": "ipython3",
   "version": "3.6.10"
  }
 },
 "nbformat": 4,
 "nbformat_minor": 4
}
